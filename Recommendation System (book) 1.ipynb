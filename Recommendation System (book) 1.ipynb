{
 "cells": [
  {
   "cell_type": "code",
   "execution_count": 71,
   "metadata": {},
   "outputs": [],
   "source": [
    "import pandas as pd\n",
    "from sklearn.feature_extraction.text import TfidfVectorizer as tfidv\n",
    "from sklearn.metrics.pairwise import linear_kernel as linker"
   ]
  },
  {
   "cell_type": "code",
   "execution_count": 70,
   "metadata": {},
   "outputs": [],
   "source": [
    "book = pd.read_csv(\"C://data science//data sets//book.csv\",encoding= 'latin-1')"
   ]
  },
  {
   "cell_type": "code",
   "execution_count": 72,
   "metadata": {},
   "outputs": [
    {
     "data": {
      "text/plain": [
       "(10000, 4)"
      ]
     },
     "execution_count": 72,
     "metadata": {},
     "output_type": "execute_result"
    }
   ],
   "source": [
    "book.shape"
   ]
  },
  {
   "cell_type": "code",
   "execution_count": 73,
   "metadata": {},
   "outputs": [
    {
     "data": {
      "text/plain": [
       "Index(['Unnamed: 0', 'User.ID', 'Book.Title', 'Book.Rating'], dtype='object')"
      ]
     },
     "execution_count": 73,
     "metadata": {},
     "output_type": "execute_result"
    }
   ],
   "source": [
    "book.columns"
   ]
  },
  {
   "cell_type": "code",
   "execution_count": 74,
   "metadata": {},
   "outputs": [],
   "source": [
    "book = book.iloc[:,1:]"
   ]
  },
  {
   "cell_type": "code",
   "execution_count": 75,
   "metadata": {},
   "outputs": [],
   "source": [
    "# Creating a Tfidf Vectorizer to remove all stop words\n",
    "tfidf = tfidv(stop_words=\"english\")    #taking stop words from tfid vectorizer "
   ]
  },
  {
   "cell_type": "code",
   "execution_count": 76,
   "metadata": {},
   "outputs": [
    {
     "data": {
      "text/plain": [
       "0"
      ]
     },
     "execution_count": 76,
     "metadata": {},
     "output_type": "execute_result"
    }
   ],
   "source": [
    "#checking for null\n",
    "book[\"Book.Title\"].isnull().sum() "
   ]
  },
  {
   "cell_type": "code",
   "execution_count": 77,
   "metadata": {},
   "outputs": [
    {
     "data": {
      "text/plain": [
       "(10000, 11435)"
      ]
     },
     "execution_count": 77,
     "metadata": {},
     "output_type": "execute_result"
    }
   ],
   "source": [
    "# Preparing the Tfidf matrix by fitting and transforming\n",
    "#Transform a count matrix to a normalized tf or tf-idf representation\n",
    "\n",
    "tfidf_matrix = tfidf.fit_transform(book[\"Book.Title\"])\n",
    "tfidf_matrix.shape "
   ]
  },
  {
   "cell_type": "code",
   "execution_count": 78,
   "metadata": {},
   "outputs": [],
   "source": [
    "# Computing the cosine similarity on Tfidf matrix\n",
    "cosine_sim_matrix = linker(tfidf_matrix,tfidf_matrix)"
   ]
  },
  {
   "cell_type": "code",
   "execution_count": 79,
   "metadata": {},
   "outputs": [],
   "source": [
    "# creating a mapping of anime name to index number \n",
    "book_index = pd.Series(book.index,index=book['Book.Title']).drop_duplicates()"
   ]
  },
  {
   "cell_type": "code",
   "execution_count": 80,
   "metadata": {},
   "outputs": [
    {
     "data": {
      "text/plain": [
       "2184"
      ]
     },
     "execution_count": 80,
     "metadata": {},
     "output_type": "execute_result"
    }
   ],
   "source": [
    "book_index[\"American Pastoral\"]"
   ]
  },
  {
   "cell_type": "code",
   "execution_count": 83,
   "metadata": {},
   "outputs": [],
   "source": [
    "def get_books(Name,topN):\n",
    "    #topN = 10\n",
    "    # Getting the book index using its title \n",
    "    book_id = book_index[Name]\n",
    "    \n",
    "    # Getting the pair wise similarity score for all the book with that book \n",
    "    cosine_scores = list(enumerate(cosine_sim_matrix[book_id]))\n",
    "    \n",
    "    # Sorting the cosine_similarity scores based on scores \n",
    "    cosine_scores = sorted(cosine_scores,key=lambda x:x[1],reverse = True)\n",
    "    \n",
    "    # Get the scores of top 10 most similar book\n",
    "    cosine_scores_10 = cosine_scores[0:topN+1]\n",
    "    \n",
    "    # Getting the books by index \n",
    "    book_idx  =  [i[0] for i in cosine_scores_10]\n",
    "    book_scores =  [i[1] for i in cosine_scores_10]\n",
    "    \n",
    "    # Similar book\n",
    "    book_same = pd.DataFrame(columns=[\"name\",\"Score\"])\n",
    "    book_same[\"name\"] = book.loc[book_idx,\"Book.Title\"]\n",
    "    book_same[\"Score\"] = book_scores\n",
    "    book_same.reset_index(inplace=True)  \n",
    "    book_same.drop([\"index\"],axis=1,inplace=True)\n",
    "    print (book_same)"
   ]
  },
  {
   "cell_type": "code",
   "execution_count": 84,
   "metadata": {},
   "outputs": [
    {
     "name": "stdout",
     "output_type": "stream",
     "text": [
      "                                                 name     Score\n",
      "0                                   American Pastoral  1.000000\n",
      "1   Budding prospects: A pastoral (Contemporary Am...  0.532123\n",
      "2   Handbook for Todays' Catholic: Beliefs, Practi...  0.400772\n",
      "3                       Under Fire: An American Story  0.345714\n",
      "4                                   All-American Girl  0.318843\n",
      "5                                   All-American Girl  0.318843\n",
      "6                                        American Son  0.280683\n",
      "7                                       American Gods  0.269748\n",
      "8                                       Ugly American  0.259091\n",
      "9   Meet Samantha: An American Girl (American Girl...  0.252181\n",
      "10  Meet Josefina, an American Girl (American Girl...  0.251199\n"
     ]
    }
   ],
   "source": [
    "# Enter your book and number of books to be recommended \n",
    "get_books(\"American Pastoral\",topN=10)"
   ]
  },
  {
   "cell_type": "code",
   "execution_count": 85,
   "metadata": {},
   "outputs": [
    {
     "name": "stdout",
     "output_type": "stream",
     "text": [
      "                                                name     Score\n",
      "0                                           Timeline  1.000000\n",
      "1  Washington's Dirigible (Timeline Wars/John Bar...  0.444042\n",
      "2                                Classical Mythology  0.000000\n",
      "3                                       Clara Callan  0.000000\n",
      "4                               Decision in Normandy  0.000000\n",
      "5  Flu: The Story of the Great Influenza Pandemic...  0.000000\n"
     ]
    }
   ],
   "source": [
    "get_books(\"Timeline\",topN=5)"
   ]
  },
  {
   "cell_type": "code",
   "execution_count": 86,
   "metadata": {},
   "outputs": [
    {
     "name": "stdout",
     "output_type": "stream",
     "text": [
      "                                                 name     Score\n",
      "0                          Haveli (Laurel Leaf Books)  1.000000\n",
      "1         Nobody Else Has to Know (Laurel-Leaf Books)  0.685273\n",
      "2                         Camilla (Laurel Leaf Books)  0.615555\n",
      "3               The Chocolate War (Laurel Leaf Books)  0.612138\n",
      "4   What Child Is This?: A Christmas Story (Laurel...  0.593604\n",
      "5                  Locked in Time (Laurel Leaf Books)  0.581344\n",
      "6   Love and Other Four-Letter Words (Laurel-Leaf ...  0.564120\n",
      "7         The Unprotected Witness (Laurel-Leaf Books)  0.548586\n",
      "8     Island of the Blue Dolphins (Laurel Leaf Books)  0.544544\n",
      "9                  Johnny Tremain (Laurel Leaf Books)  0.539709\n",
      "10              Peeling the Onion (Laurel Leaf Books)  0.536998\n",
      "11  Ties That Bind, Ties That Break (Laurel-Leaf B...  0.393256\n",
      "12                                       Tree by Leaf  0.366323\n",
      "13         Mountain Laurel (Love Inspired (Numbered))  0.231148\n",
      "14                                       Jungle Books  0.211174\n",
      "15      Turn over a New Leaf: Green Cartoons for Care  0.193769\n"
     ]
    }
   ],
   "source": [
    "get_books(\"Haveli (Laurel Leaf Books)\",topN=15)"
   ]
  },
  {
   "cell_type": "code",
   "execution_count": 87,
   "metadata": {},
   "outputs": [
    {
     "name": "stdout",
     "output_type": "stream",
     "text": [
      "                                                 name     Score\n",
      "0   Goodbye, My Little Ones: The True Story of a M...  1.000000\n",
      "1                               The Last Innocent Man  0.301412\n",
      "2                                    Precious Victims  0.285391\n",
      "3   Hush Little Babies : The True Story Of A Mothe...  0.283783\n",
      "4                                      Innocent Blood  0.280658\n",
      "5                                Before I Say Goodbye  0.268821\n",
      "6                                If Only It Were True  0.260574\n",
      "7                                            Too True  0.260574\n",
      "8                       A Mother's Love Is Made Up of  0.236692\n",
      "9                                   Presumed Innocent  0.236263\n",
      "10                                           MY STORY  0.227302\n",
      "11                                   A Mother's Heart  0.220626\n",
      "12                                    The Good Mother  0.219863\n",
      "13           A Murderous Yarn (Needlecraft Mysteries)  0.217251\n",
      "14                              Her Mother's Daughter  0.215766\n",
      "15                         Birds of the Innocent Wood  0.213850\n",
      "16                     The Autobiography of My Mother  0.204372\n",
      "17                      Goodbye to the Buttermilk Sky  0.202534\n",
      "18                                          True Love  0.198819\n",
      "19                                    Mother of Pearl  0.195977\n",
      "20                                    Mother of Pearl  0.195977\n"
     ]
    }
   ],
   "source": [
    "get_books(\"Goodbye, My Little Ones: The True Story of a Murderous Mother and Five Innocent Victims\",topN=20)"
   ]
  },
  {
   "cell_type": "code",
   "execution_count": 88,
   "metadata": {},
   "outputs": [
    {
     "name": "stdout",
     "output_type": "stream",
     "text": [
      "                                                name     Score\n",
      "0                                  My Cat Spit McGee  1.000000\n",
      "1                        My Cat Spit McGee (Vintage)  0.926187\n",
      "2                                          Cat House  0.317053\n",
      "3  The Cat Who Sang for the Birds (Cat Who... (Pa...  0.307327\n"
     ]
    }
   ],
   "source": [
    "get_books(\"My Cat Spit McGee\",topN=3)"
   ]
  },
  {
   "cell_type": "code",
   "execution_count": 89,
   "metadata": {},
   "outputs": [
    {
     "name": "stdout",
     "output_type": "stream",
     "text": [
      "                                                 name     Score\n",
      "0   Move Your Stuff, Change Your Life : How to Use...  1.000000\n",
      "1                     Pooh's Little Book of Feng Shui  0.384671\n",
      "2   The Western Guide to Feng Shui: Creating Balan...  0.381269\n",
      "3   Dream Power: How to Use Your Night Dreams to C...  0.338558\n",
      "4   FINDING THE BOYFRIEND WITHIN : A Practical Gui...  0.311888\n",
      "5       Feng Shui: A Complete Guide (Complete Guides)  0.308601\n",
      "6                                  We're in the Money  0.299508\n",
      "7                                  Respect for Acting  0.256576\n",
      "8   Stop, think, start!: Steps to change your head...  0.235233\n",
      "9                 Don't Sweat the Small Stuff in Love  0.218726\n",
      "10                         Happiness Is an Inside Job  0.216627\n",
      "11                      Making the Most of Your Money  0.214376\n",
      "12                                        Paper Money  0.213766\n",
      "13                                 I Love You So Much  0.211612\n",
      "14                                     For Love Alone  0.211612\n",
      "15                                               Love  0.211612\n",
      "16                              You Are My I Love You  0.211612\n",
      "17  Your Money or Your Life: Transforming Your Rel...  0.211179\n",
      "18                                    Seeds of change  0.206122\n",
      "19                                  Life Is Elsewhere  0.203269\n",
      "20                                  Life Is Elsewhere  0.203269\n",
      "21                                  Life Is Elsewhere  0.203269\n",
      "22                                        Tough Stuff  0.203113\n",
      "23  Don't Sweat the Small Stuff... and It's All Sm...  0.203045\n",
      "24  Don't Sweat the Small Stuff and It's All Small...  0.196278\n",
      "25                              Love to Love You Baby  0.181888\n",
      "26                  365 Health and Happiness Boosters  0.172228\n",
      "27                     Change Me into Zeus's Daughter  0.172011\n",
      "28                                   Step-Ball-Change  0.169513\n",
      "29  Creative Visualization: Use the Power of Your ...  0.167143\n",
      "30                             Free Stuff for Seniors  0.166163\n",
      "31                           Only Love (Magical Love)  0.163939\n",
      "32         One for the Money (A Stephanie Plum Novel)  0.154612\n",
      "33  Who Moved My Cheese? An Amazing Way to Deal wi...  0.152793\n",
      "34  Don't Sweat the Small Stuff with Your Family :...  0.150466\n",
      "35                                         Love Story  0.147428\n",
      "36                                  Each Time We Love  0.145554\n",
      "37  MoveOn's 50 Ways to Love Your Country: How to ...  0.144600\n",
      "38                            Me : Stories of My Life  0.142261\n",
      "39                             Me: Stories of My Life  0.142261\n",
      "40                                      Women in Love  0.142119\n",
      "41  One for the Money (Stephanie Plum Novels (Pape...  0.141143\n",
      "42  The Worst Rock-And-Roll Records of All Time: A...  0.141021\n",
      "43                     101 Ways to Make Money at Home  0.140103\n",
      "44  Know It All!: The Fun Stuff You Never Learned ...  0.139856\n",
      "45                                   Story of My Life  0.138658\n",
      "46           True Love (Caitlin : Love Trilogy, No 3)  0.138444\n",
      "47                                          True Love  0.136784\n",
      "48                                   Love Me to Death  0.136590\n",
      "49          Love Lost (Caitlin : Love Trilogy, No. 2)  0.136233\n",
      "50                                    Life Before Man  0.135828\n"
     ]
    }
   ],
   "source": [
    "get_books(\"Move Your Stuff, Change Your Life : How to Use Feng Shui to Get Love, Money, Respect and Happiness\",topN=50)"
   ]
  },
  {
   "cell_type": "code",
   "execution_count": 90,
   "metadata": {},
   "outputs": [
    {
     "name": "stdout",
     "output_type": "stream",
     "text": [
      "                                                 name     Score\n",
      "0   The World's Shortest Stories: Murder, Love, Ho...  1.000000\n",
      "1   The World's Shortest Stories of Love and Death...  0.650750\n",
      "2                      Just As Long As We're Together  0.340995\n",
      "3   All the Tenderness Left in the World: Short St...  0.276194\n",
      "4                                   These is My Words  0.259882\n",
      "5              100 Great Fantasy Short, Short Stories  0.255903\n",
      "6                             Me : Stories of My Life  0.251730\n",
      "7                              Me: Stories of My Life  0.251730\n",
      "8                   Flash Fiction: Very Short Stories  0.244982\n",
      "9   A RIVER RUNS THROUGH IT AND OTHER STORIES : AN...  0.238747\n",
      "10                                Written on the Body  0.231930\n",
      "11         The Year's Best Horror Stories: Series XIV  0.230232\n"
     ]
    }
   ],
   "source": [
    "get_books(\"The World's Shortest Stories: Murder, Love, Horror, Suspense, All This and Much More in the Most Amazing Short Stories Ever Written, Each One Just 55 Words Long\",topN=11)"
   ]
  }
 ],
 "metadata": {
  "kernelspec": {
   "display_name": "Python 3",
   "language": "python",
   "name": "python3"
  },
  "language_info": {
   "codemirror_mode": {
    "name": "ipython",
    "version": 3
   },
   "file_extension": ".py",
   "mimetype": "text/x-python",
   "name": "python",
   "nbconvert_exporter": "python",
   "pygments_lexer": "ipython3",
   "version": "3.8.5"
  }
 },
 "nbformat": 4,
 "nbformat_minor": 4
}
